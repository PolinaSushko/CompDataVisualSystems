{
 "cells": [
  {
   "cell_type": "code",
   "execution_count": 2,
   "id": "13aae9c8-dba0-4686-bf22-98a15cefbc2e",
   "metadata": {},
   "outputs": [],
   "source": [
    "import numpy as np\n",
    "import pandas as pd\n",
    "import matplotlib.pyplot as plt"
   ]
  },
  {
   "cell_type": "markdown",
   "id": "c30fe451",
   "metadata": {},
   "source": [
    "## Numpy"
   ]
  },
  {
   "cell_type": "markdown",
   "id": "41bfe57c-521a-4123-9ad3-97edf92cba87",
   "metadata": {},
   "source": [
    "1. Створіть одновимірний масив (вектор) з першими 20-ма натуральними числами та виведіть його значення."
   ]
  },
  {
   "cell_type": "code",
   "execution_count": 49,
   "id": "c30fddbb-2e2e-4e4f-9371-3ff18dcc8e15",
   "metadata": {},
   "outputs": [
    {
     "name": "stdout",
     "output_type": "stream",
     "text": [
      "[ 0  1  2  3  4  5  6  7  8  9 10 11 12 13 14 15 16 17 18 19]\n"
     ]
    }
   ],
   "source": [
    "array_1 = np.arange(20)\n",
    "print(array_1)"
   ]
  },
  {
   "cell_type": "markdown",
   "id": "8684faa3-f648-43d6-8aa7-7a596bb2043e",
   "metadata": {},
   "source": [
    "2. Створіть двовимірний масив (матрицю) розміром 4x4, заповніть його одиницями та виведіть його значення."
   ]
  },
  {
   "cell_type": "code",
   "execution_count": 48,
   "id": "5c0ef533-e63e-470e-aabf-24daf9ec0b04",
   "metadata": {},
   "outputs": [
    {
     "name": "stdout",
     "output_type": "stream",
     "text": [
      "[[1. 1. 1. 1.]\n",
      " [1. 1. 1. 1.]\n",
      " [1. 1. 1. 1.]\n",
      " [1. 1. 1. 1.]]\n"
     ]
    }
   ],
   "source": [
    "array_2 = np.ones((4,4), dtype = float)\n",
    "print(array_2)"
   ]
  },
  {
   "cell_type": "markdown",
   "id": "a12df13d-77d7-444b-b049-da684e5001e5",
   "metadata": {},
   "source": [
    "3. Створіть масив розміром 5x5, заповніть його випадковими дійсними числами в діапазоні від -1 до 1 та виведіть його значення."
   ]
  },
  {
   "cell_type": "code",
   "execution_count": 47,
   "id": "eaaed490-e746-4039-a532-ec25b58e8fdd",
   "metadata": {},
   "outputs": [
    {
     "name": "stdout",
     "output_type": "stream",
     "text": [
      "[[ 0.40238949  0.82268232 -0.1691156  -0.12463131  0.84541247]\n",
      " [ 0.05340779 -0.23091898  0.73190613 -0.41662939  0.63545863]\n",
      " [ 0.65830589 -0.30479476 -0.35758219 -0.49889742 -0.05269509]\n",
      " [ 0.49983976  0.50861613  0.94212535  0.87831345 -0.63097668]\n",
      " [ 0.82256281 -0.24685322 -0.35207085  0.04514636 -0.04591491]]\n"
     ]
    }
   ],
   "source": [
    "array_3 = np.random.uniform(-1, 1, (5,5))\n",
    "print(array_3)"
   ]
  },
  {
   "cell_type": "markdown",
   "id": "16f896af-dc24-415f-9dc4-cad6d7fab782",
   "metadata": {},
   "source": [
    "4. Створіть масив розміром 3x3, заповніть його випадковими дійсними числами в діапазоні від 0 до 1 та виведіть його значення."
   ]
  },
  {
   "cell_type": "code",
   "execution_count": 46,
   "id": "f7c68c68-79c9-46ec-a955-ac7b9b892504",
   "metadata": {},
   "outputs": [
    {
     "name": "stdout",
     "output_type": "stream",
     "text": [
      "[[0.78558533 0.87634406 0.68341587]\n",
      " [0.64814645 0.47363687 0.25087113]\n",
      " [0.01348038 0.30453991 0.07325653]]\n"
     ]
    }
   ],
   "source": [
    "array_4 = np.random.uniform(0, 1, (3,3))\n",
    "print(array_4)"
   ]
  },
  {
   "cell_type": "markdown",
   "id": "df6033e4-8312-45b4-b174-ab007372547a",
   "metadata": {},
   "source": [
    "5. Створіть два одновимірних масиви розміром 6, заповніть їх випадковими цілими числами в діапазоні від 1 до 20 та виконайте на них поелементні операції додавання, віднімання та множення."
   ]
  },
  {
   "cell_type": "code",
   "execution_count": 7,
   "id": "1ab64220",
   "metadata": {},
   "outputs": [],
   "source": [
    "array_5 = np.random.randint(1, 21, 6)\n",
    "array_6 = np.random.randint(1, 21, 6)"
   ]
  },
  {
   "cell_type": "code",
   "execution_count": 12,
   "id": "f531b062",
   "metadata": {},
   "outputs": [
    {
     "name": "stdout",
     "output_type": "stream",
     "text": [
      "[ 5 18 14 17 17  3]\n",
      "[17  2 11 20 17 11]\n"
     ]
    }
   ],
   "source": [
    "print(array_5)\n",
    "print(array_6)"
   ]
  },
  {
   "cell_type": "code",
   "execution_count": 13,
   "id": "34d83f13",
   "metadata": {},
   "outputs": [],
   "source": [
    "sum_array = array_5 + array_6\n",
    "sub_array = array_5 - array_6\n",
    "mul_array = array_5 * array_6"
   ]
  },
  {
   "cell_type": "code",
   "execution_count": 14,
   "id": "def9dcbd",
   "metadata": {},
   "outputs": [
    {
     "name": "stdout",
     "output_type": "stream",
     "text": [
      "[22 20 25 37 34 14]\n",
      "[-12  16   3  -3   0  -8]\n",
      "[ 85  36 154 340 289  33]\n"
     ]
    }
   ],
   "source": [
    "print(sum_array)\n",
    "print(sub_array)\n",
    "print(mul_array)"
   ]
  },
  {
   "cell_type": "markdown",
   "id": "51ed3032",
   "metadata": {},
   "source": [
    "6. Створіть дві матриці розміром 3x2 та 2x4, заповніть їх випадковими цілими числами в діапазоні від 1 до 5 та перемножте їх між собою."
   ]
  },
  {
   "cell_type": "code",
   "execution_count": 17,
   "id": "8ace071b",
   "metadata": {},
   "outputs": [],
   "source": [
    "matrix_1 = np.random.randint(1, 6, (3,2))\n",
    "matrix_2 = np.random.randint(1, 6, (2,4))"
   ]
  },
  {
   "cell_type": "code",
   "execution_count": 18,
   "id": "24b8a560",
   "metadata": {},
   "outputs": [
    {
     "name": "stdout",
     "output_type": "stream",
     "text": [
      "[[2 3]\n",
      " [4 5]\n",
      " [4 1]]\n",
      "[[4 1 4 5]\n",
      " [3 3 2 2]]\n"
     ]
    }
   ],
   "source": [
    "print(matrix_1)\n",
    "print(matrix_2)"
   ]
  },
  {
   "cell_type": "code",
   "execution_count": 45,
   "id": "8b7fe8e6",
   "metadata": {},
   "outputs": [
    {
     "name": "stdout",
     "output_type": "stream",
     "text": [
      "[[17 11 14 16]\n",
      " [31 19 26 30]\n",
      " [19  7 18 22]]\n"
     ]
    }
   ],
   "source": [
    "mul_matrix = matrix_1.dot(matrix_2)\n",
    "print(mul_matrix)"
   ]
  },
  {
   "cell_type": "markdown",
   "id": "6131de1d",
   "metadata": {},
   "source": [
    "7. Створіть матрицю розміром 3x3, заповніть її випадковими дійсними числами в діапазоні від 0 до 1 та транспонуйте її."
   ]
  },
  {
   "cell_type": "code",
   "execution_count": 20,
   "id": "1080191c",
   "metadata": {},
   "outputs": [
    {
     "data": {
      "text/plain": [
       "array([[0.74951483, 0.8671699 , 0.25563607],\n",
       "       [0.98831775, 0.22239228, 0.24056918],\n",
       "       [0.77879386, 0.15327548, 0.68605494]])"
      ]
     },
     "execution_count": 20,
     "metadata": {},
     "output_type": "execute_result"
    }
   ],
   "source": [
    "matrix_3 = np.random.uniform(0, 1, (3,3))\n",
    "matrix_3"
   ]
  },
  {
   "cell_type": "code",
   "execution_count": 44,
   "id": "9b9a435f",
   "metadata": {},
   "outputs": [
    {
     "name": "stdout",
     "output_type": "stream",
     "text": [
      "[[0.74951483 0.98831775 0.77879386]\n",
      " [0.8671699  0.22239228 0.15327548]\n",
      " [0.25563607 0.24056918 0.68605494]]\n"
     ]
    }
   ],
   "source": [
    "matrix_t = matrix_3.T\n",
    "print(matrix_t)"
   ]
  },
  {
   "cell_type": "markdown",
   "id": "67031105",
   "metadata": {},
   "source": [
    "8. Створіть дві матриці розміром 3x3, заповніть їх випадковими цілими числами в діапазоні від 1 до 10 та знайдіть їхню різницю."
   ]
  },
  {
   "cell_type": "code",
   "execution_count": 25,
   "id": "4eff84b1",
   "metadata": {},
   "outputs": [],
   "source": [
    "matrix_4 = np.random.randint(1, 11, (3,3))\n",
    "matrix_5 = np.random.randint(1, 11, (3,3))"
   ]
  },
  {
   "cell_type": "code",
   "execution_count": 26,
   "id": "fd2fe76e",
   "metadata": {},
   "outputs": [
    {
     "name": "stdout",
     "output_type": "stream",
     "text": [
      "[[ 8 10  7]\n",
      " [ 8 10  8]\n",
      " [ 7 10  9]]\n",
      "[[ 2  6 10]\n",
      " [10  6  3]\n",
      " [ 1  9  3]]\n"
     ]
    }
   ],
   "source": [
    "print(matrix_4)\n",
    "print(matrix_5)"
   ]
  },
  {
   "cell_type": "code",
   "execution_count": 43,
   "id": "bf892652",
   "metadata": {},
   "outputs": [
    {
     "name": "stdout",
     "output_type": "stream",
     "text": [
      "[[ 6  4 -3]\n",
      " [-2  4  5]\n",
      " [ 6  1  6]]\n"
     ]
    }
   ],
   "source": [
    "sub_matrix = matrix_4 - matrix_5\n",
    "print(sub_matrix)"
   ]
  },
  {
   "cell_type": "markdown",
   "id": "585a6bea",
   "metadata": {},
   "source": [
    "9. Створіть дві матриці розміром 3x3, заповніть їх випадковими цілими числами в діапазоні від -5 до 5 та знайдіть їх добуток."
   ]
  },
  {
   "cell_type": "code",
   "execution_count": 30,
   "id": "61e7dca2",
   "metadata": {},
   "outputs": [],
   "source": [
    "matrix_6 = np.random.randint(-5, 6, (3,3))\n",
    "matrix_7 = np.random.randint(-5, 6, (3,3))"
   ]
  },
  {
   "cell_type": "code",
   "execution_count": 31,
   "id": "7b42d193",
   "metadata": {},
   "outputs": [
    {
     "name": "stdout",
     "output_type": "stream",
     "text": [
      "[[ 3 -5  3]\n",
      " [-5  4  1]\n",
      " [-3 -3  2]]\n",
      "[[ 0  0 -3]\n",
      " [ 5  0 -3]\n",
      " [ 0 -2  4]]\n"
     ]
    }
   ],
   "source": [
    "print(matrix_6)\n",
    "print(matrix_7)"
   ]
  },
  {
   "cell_type": "code",
   "execution_count": 42,
   "id": "0d0edfeb",
   "metadata": {},
   "outputs": [
    {
     "name": "stdout",
     "output_type": "stream",
     "text": [
      "[[-25  -6  18]\n",
      " [ 20  -2   7]\n",
      " [-15  -4  26]]\n"
     ]
    }
   ],
   "source": [
    "mul_matrix_2 = matrix_6.dot(matrix_7)\n",
    "print(mul_matrix_2)"
   ]
  },
  {
   "cell_type": "markdown",
   "id": "f7c4c2eb",
   "metadata": {},
   "source": [
    "10. Створіть матрицю розміром 3x3, заповніть її випадковими дійсними числами в діапазоні від -1 до 1 та знайдіть вектор-стовпчик, що містить суму елементів кожного рядка матриці."
   ]
  },
  {
   "cell_type": "code",
   "execution_count": 33,
   "id": "f41c98cd",
   "metadata": {},
   "outputs": [
    {
     "data": {
      "text/plain": [
       "array([[-0.75615593,  0.03911405, -0.95581111],\n",
       "       [-0.47448629, -0.87505442,  0.1085786 ],\n",
       "       [ 0.6965554 ,  0.07058372, -0.78812069]])"
      ]
     },
     "execution_count": 33,
     "metadata": {},
     "output_type": "execute_result"
    }
   ],
   "source": [
    "matrix_8 = np.random.uniform(-1, 1, (3,3))\n",
    "matrix_8"
   ]
  },
  {
   "cell_type": "code",
   "execution_count": 41,
   "id": "002b21f2",
   "metadata": {},
   "outputs": [
    {
     "name": "stdout",
     "output_type": "stream",
     "text": [
      "[[-1.67285299]\n",
      " [-1.24096211]\n",
      " [-0.02098157]]\n"
     ]
    }
   ],
   "source": [
    "row_sum    = np.sum(matrix_8, axis = 1)\n",
    "col_vector = row_sum.reshape(-1,1)\n",
    "print(col_vector)"
   ]
  },
  {
   "cell_type": "markdown",
   "id": "d5c729f1",
   "metadata": {},
   "source": [
    "## Pandas"
   ]
  },
  {
   "cell_type": "markdown",
   "id": "9518d53f",
   "metadata": {},
   "source": [
    "1. Відобразити перші 10 рядків таблиці за допомогою методу head"
   ]
  },
  {
   "cell_type": "code",
   "execution_count": 25,
   "id": "bd73a28b",
   "metadata": {},
   "outputs": [],
   "source": [
    "url = 'https://uk.wikipedia.org/wiki/%D0%9D%D0%B0%D1%80%D0%BE%D0%B4%D0%B6%D1%83%D0%B2%D0%B0%D0%BD%D1%96%D1%81%D1%82%D1%8C_%D0%B2_%D0%A3%D0%BA%D1%80%D0%B0%D1%97%D0%BD%D1%96'"
   ]
  },
  {
   "cell_type": "code",
   "execution_count": 26,
   "id": "850f3b9e",
   "metadata": {},
   "outputs": [
    {
     "data": {
      "text/html": [
       "<div>\n",
       "<style scoped>\n",
       "    .dataframe tbody tr th:only-of-type {\n",
       "        vertical-align: middle;\n",
       "    }\n",
       "\n",
       "    .dataframe tbody tr th {\n",
       "        vertical-align: top;\n",
       "    }\n",
       "\n",
       "    .dataframe thead th {\n",
       "        text-align: right;\n",
       "    }\n",
       "</style>\n",
       "<table border=\"1\" class=\"dataframe\">\n",
       "  <thead>\n",
       "    <tr style=\"text-align: right;\">\n",
       "      <th></th>\n",
       "      <th>регіон</th>\n",
       "      <th>1950</th>\n",
       "      <th>1960</th>\n",
       "      <th>1970</th>\n",
       "      <th>1990</th>\n",
       "      <th>1992</th>\n",
       "      <th>1994</th>\n",
       "      <th>1996</th>\n",
       "      <th>2000</th>\n",
       "      <th>2004</th>\n",
       "      <th>2008</th>\n",
       "      <th>2012</th>\n",
       "      <th>2014</th>\n",
       "    </tr>\n",
       "  </thead>\n",
       "  <tbody>\n",
       "    <tr>\n",
       "      <th>0</th>\n",
       "      <td>Автономна Республіка Крим</td>\n",
       "      <td>23.0</td>\n",
       "      <td>20.6</td>\n",
       "      <td>16.0</td>\n",
       "      <td>13.0</td>\n",
       "      <td>10.9</td>\n",
       "      <td>9.3</td>\n",
       "      <td>8.0</td>\n",
       "      <td>7.3</td>\n",
       "      <td>9.0</td>\n",
       "      <td>11.9</td>\n",
       "      <td>12.6</td>\n",
       "      <td>NaN</td>\n",
       "    </tr>\n",
       "    <tr>\n",
       "      <th>1</th>\n",
       "      <td>Вінницька область</td>\n",
       "      <td>22.4</td>\n",
       "      <td>19.2</td>\n",
       "      <td>14.2</td>\n",
       "      <td>12.4</td>\n",
       "      <td>11.9</td>\n",
       "      <td>10.7</td>\n",
       "      <td>10.3</td>\n",
       "      <td>8.4</td>\n",
       "      <td>9.0</td>\n",
       "      <td>10.8</td>\n",
       "      <td>11.2</td>\n",
       "      <td>10.9</td>\n",
       "    </tr>\n",
       "    <tr>\n",
       "      <th>2</th>\n",
       "      <td>Волинська область</td>\n",
       "      <td>24.7</td>\n",
       "      <td>25.0</td>\n",
       "      <td>17.9</td>\n",
       "      <td>15.3</td>\n",
       "      <td>15.0</td>\n",
       "      <td>13.7</td>\n",
       "      <td>12.5</td>\n",
       "      <td>11.2</td>\n",
       "      <td>11.9</td>\n",
       "      <td>14.8</td>\n",
       "      <td>14.8</td>\n",
       "      <td>14.1</td>\n",
       "    </tr>\n",
       "    <tr>\n",
       "      <th>3</th>\n",
       "      <td>Дніпропетровська область</td>\n",
       "      <td>20.4</td>\n",
       "      <td>20.4</td>\n",
       "      <td>15.1</td>\n",
       "      <td>12.3</td>\n",
       "      <td>10.6</td>\n",
       "      <td>9.2</td>\n",
       "      <td>8.0</td>\n",
       "      <td>7.1</td>\n",
       "      <td>8.9</td>\n",
       "      <td>11.0</td>\n",
       "      <td>11.2</td>\n",
       "      <td>11.1</td>\n",
       "    </tr>\n",
       "    <tr>\n",
       "      <th>4</th>\n",
       "      <td>Донецька область</td>\n",
       "      <td>27.1</td>\n",
       "      <td>21.4</td>\n",
       "      <td>14.0</td>\n",
       "      <td>10.9</td>\n",
       "      <td>9.4</td>\n",
       "      <td>8.2</td>\n",
       "      <td>7.0</td>\n",
       "      <td>6.1</td>\n",
       "      <td>7.6</td>\n",
       "      <td>9.8</td>\n",
       "      <td>9.8</td>\n",
       "      <td>8.2</td>\n",
       "    </tr>\n",
       "    <tr>\n",
       "      <th>5</th>\n",
       "      <td>Житомирська область</td>\n",
       "      <td>26.1</td>\n",
       "      <td>22.3</td>\n",
       "      <td>15.9</td>\n",
       "      <td>12.9</td>\n",
       "      <td>12.8</td>\n",
       "      <td>11.8</td>\n",
       "      <td>10.8</td>\n",
       "      <td>8.9</td>\n",
       "      <td>9.8</td>\n",
       "      <td>11.3</td>\n",
       "      <td>12.2</td>\n",
       "      <td>12.0</td>\n",
       "    </tr>\n",
       "    <tr>\n",
       "      <th>6</th>\n",
       "      <td>Закарпатська область</td>\n",
       "      <td>31.4</td>\n",
       "      <td>27.3</td>\n",
       "      <td>20.7</td>\n",
       "      <td>16.8</td>\n",
       "      <td>16.1</td>\n",
       "      <td>13.8</td>\n",
       "      <td>12.8</td>\n",
       "      <td>11.5</td>\n",
       "      <td>12.4</td>\n",
       "      <td>14.7</td>\n",
       "      <td>15.1</td>\n",
       "      <td>14.6</td>\n",
       "    </tr>\n",
       "    <tr>\n",
       "      <th>7</th>\n",
       "      <td>Запорізька область</td>\n",
       "      <td>21.9</td>\n",
       "      <td>19.7</td>\n",
       "      <td>15.0</td>\n",
       "      <td>12.4</td>\n",
       "      <td>10.7</td>\n",
       "      <td>9.2</td>\n",
       "      <td>8.1</td>\n",
       "      <td>7.1</td>\n",
       "      <td>8.5</td>\n",
       "      <td>10.3</td>\n",
       "      <td>10.6</td>\n",
       "      <td>10.6</td>\n",
       "    </tr>\n",
       "    <tr>\n",
       "      <th>8</th>\n",
       "      <td>Івано-Франківська область</td>\n",
       "      <td>24.3</td>\n",
       "      <td>24.8</td>\n",
       "      <td>18.2</td>\n",
       "      <td>15.5</td>\n",
       "      <td>14.4</td>\n",
       "      <td>13.1</td>\n",
       "      <td>12.2</td>\n",
       "      <td>10.3</td>\n",
       "      <td>10.7</td>\n",
       "      <td>12.3</td>\n",
       "      <td>12.4</td>\n",
       "      <td>12.2</td>\n",
       "    </tr>\n",
       "    <tr>\n",
       "      <th>9</th>\n",
       "      <td>Київська область</td>\n",
       "      <td>20.4</td>\n",
       "      <td>18.9</td>\n",
       "      <td>15.6</td>\n",
       "      <td>12.3</td>\n",
       "      <td>11.1</td>\n",
       "      <td>9.9</td>\n",
       "      <td>9.2</td>\n",
       "      <td>7.3</td>\n",
       "      <td>9.0</td>\n",
       "      <td>11.7</td>\n",
       "      <td>12.2</td>\n",
       "      <td>12.1</td>\n",
       "    </tr>\n",
       "  </tbody>\n",
       "</table>\n",
       "</div>"
      ],
      "text/plain": [
       "                      регіон  1950  1960  1970  1990  1992  1994  1996  2000  \\\n",
       "0  Автономна Республіка Крим  23.0  20.6  16.0  13.0  10.9   9.3   8.0   7.3   \n",
       "1          Вінницька область  22.4  19.2  14.2  12.4  11.9  10.7  10.3   8.4   \n",
       "2          Волинська область  24.7  25.0  17.9  15.3  15.0  13.7  12.5  11.2   \n",
       "3   Дніпропетровська область  20.4  20.4  15.1  12.3  10.6   9.2   8.0   7.1   \n",
       "4           Донецька область  27.1  21.4  14.0  10.9   9.4   8.2   7.0   6.1   \n",
       "5        Житомирська область  26.1  22.3  15.9  12.9  12.8  11.8  10.8   8.9   \n",
       "6       Закарпатська область  31.4  27.3  20.7  16.8  16.1  13.8  12.8  11.5   \n",
       "7         Запорізька область  21.9  19.7  15.0  12.4  10.7   9.2   8.1   7.1   \n",
       "8  Івано-Франківська область  24.3  24.8  18.2  15.5  14.4  13.1  12.2  10.3   \n",
       "9           Київська область  20.4  18.9  15.6  12.3  11.1   9.9   9.2   7.3   \n",
       "\n",
       "   2004  2008  2012  2014  \n",
       "0   9.0  11.9  12.6   NaN  \n",
       "1   9.0  10.8  11.2  10.9  \n",
       "2  11.9  14.8  14.8  14.1  \n",
       "3   8.9  11.0  11.2  11.1  \n",
       "4   7.6   9.8   9.8   8.2  \n",
       "5   9.8  11.3  12.2  12.0  \n",
       "6  12.4  14.7  15.1  14.6  \n",
       "7   8.5  10.3  10.6  10.6  \n",
       "8  10.7  12.3  12.4  12.2  \n",
       "9   9.0  11.7  12.2  12.1  "
      ]
     },
     "execution_count": 26,
     "metadata": {},
     "output_type": "execute_result"
    }
   ],
   "source": [
    "df_list = pd.read_html(url, decimal=',', thousands=' ')\n",
    "df      = df_list[20]\n",
    "df.head(10)"
   ]
  },
  {
   "cell_type": "markdown",
   "id": "cf399131",
   "metadata": {},
   "source": [
    "2. Визначити кількість рядків і стовпців в датафрейме (метод shape)"
   ]
  },
  {
   "cell_type": "code",
   "execution_count": 27,
   "id": "edec0c73",
   "metadata": {},
   "outputs": [
    {
     "name": "stdout",
     "output_type": "stream",
     "text": [
      "Кількість рядків: 28, кількість стовпців: 13\n"
     ]
    }
   ],
   "source": [
    "n_rows, n_cols = df.shape\n",
    "print(f\"Кількість рядків: {n_rows}, кількість стовпців: {n_cols}\")"
   ]
  },
  {
   "cell_type": "markdown",
   "id": "854eae6a",
   "metadata": {},
   "source": [
    "3. Замініть значення \"—\" в таблиці значеннями NaN"
   ]
  },
  {
   "cell_type": "code",
   "execution_count": null,
   "id": "977ae2f5",
   "metadata": {},
   "outputs": [],
   "source": [
    "# Оскільки при завантажені таблиці, дані, де були \"-\" одразу замінилися на NaN, тому робити нічого не потрібно.\n",
    "# Але, якби в моїх даних були \"-\", то я би написала наступний код для заміни на NaN.\n",
    "'''\n",
    "df = df.replace('-', np.NaN)\n",
    "df\n",
    "'''"
   ]
  },
  {
   "cell_type": "markdown",
   "id": "40c6e8d1",
   "metadata": {},
   "source": [
    "4. Визначте типи всіх стовпців за допомогою dataframe.dtypes"
   ]
  },
  {
   "cell_type": "code",
   "execution_count": 29,
   "id": "b8da7644",
   "metadata": {},
   "outputs": [
    {
     "data": {
      "text/plain": [
       "регіон     object\n",
       "1950      float64\n",
       "1960      float64\n",
       "1970      float64\n",
       "1990      float64\n",
       "1992      float64\n",
       "1994      float64\n",
       "1996      float64\n",
       "2000      float64\n",
       "2004      float64\n",
       "2008      float64\n",
       "2012      float64\n",
       "2014      float64\n",
       "dtype: object"
      ]
     },
     "execution_count": 29,
     "metadata": {},
     "output_type": "execute_result"
    }
   ],
   "source": [
    "df.dtypes"
   ]
  },
  {
   "cell_type": "markdown",
   "id": "56eb00e0",
   "metadata": {},
   "source": [
    "5. Замініть типи нечислових стовпців числовими стовпцями. Це стовпці, у яких було розташовано символ \"—\""
   ]
  },
  {
   "cell_type": "code",
   "execution_count": null,
   "id": "6405a734",
   "metadata": {},
   "outputs": [],
   "source": [
    "# Всі стовпці, де був символ \"-\" мають числовий тип float, тому робити нічого не потрібно.\n",
    "# Якби мені потрбіно було це зробити, то я би написала наступний код.\n",
    "'''\n",
    "df[df.columns[1:]] = df[df.columns[1:]].apply(pd.to_numeric)\n",
    "df\n",
    "'''"
   ]
  },
  {
   "cell_type": "markdown",
   "id": "b6cd2e6e",
   "metadata": {},
   "source": [
    "6. Обчислити, скільки проміжків у кожному стовпці (використовуйте методи isnull, sum та len)"
   ]
  },
  {
   "cell_type": "code",
   "execution_count": 31,
   "id": "b6a151c6",
   "metadata": {},
   "outputs": [
    {
     "data": {
      "text/plain": [
       "регіон    0\n",
       "1950      2\n",
       "1960      1\n",
       "1970      1\n",
       "1990      0\n",
       "1992      0\n",
       "1994      0\n",
       "1996      0\n",
       "2000      0\n",
       "2004      0\n",
       "2008      0\n",
       "2012      0\n",
       "2014      2\n",
       "dtype: int64"
      ]
     },
     "execution_count": 31,
     "metadata": {},
     "output_type": "execute_result"
    }
   ],
   "source": [
    "missing_value = df.isnull().sum()\n",
    "missing_value"
   ]
  },
  {
   "cell_type": "markdown",
   "id": "6852e9dd",
   "metadata": {},
   "source": [
    "7. Видалити дані для всієї країни з таблиці в останньому рядку таблиці"
   ]
  },
  {
   "cell_type": "code",
   "execution_count": 32,
   "id": "8e3cea1e",
   "metadata": {},
   "outputs": [
    {
     "data": {
      "text/html": [
       "<div>\n",
       "<style scoped>\n",
       "    .dataframe tbody tr th:only-of-type {\n",
       "        vertical-align: middle;\n",
       "    }\n",
       "\n",
       "    .dataframe tbody tr th {\n",
       "        vertical-align: top;\n",
       "    }\n",
       "\n",
       "    .dataframe thead th {\n",
       "        text-align: right;\n",
       "    }\n",
       "</style>\n",
       "<table border=\"1\" class=\"dataframe\">\n",
       "  <thead>\n",
       "    <tr style=\"text-align: right;\">\n",
       "      <th></th>\n",
       "      <th>регіон</th>\n",
       "      <th>1950</th>\n",
       "      <th>1960</th>\n",
       "      <th>1970</th>\n",
       "      <th>1990</th>\n",
       "      <th>1992</th>\n",
       "      <th>1994</th>\n",
       "      <th>1996</th>\n",
       "      <th>2000</th>\n",
       "      <th>2004</th>\n",
       "      <th>2008</th>\n",
       "      <th>2012</th>\n",
       "      <th>2014</th>\n",
       "    </tr>\n",
       "  </thead>\n",
       "  <tbody>\n",
       "    <tr>\n",
       "      <th>23</th>\n",
       "      <td>Чернівецька область</td>\n",
       "      <td>24.7</td>\n",
       "      <td>21.8</td>\n",
       "      <td>17.0</td>\n",
       "      <td>14.8</td>\n",
       "      <td>14.0</td>\n",
       "      <td>12.8</td>\n",
       "      <td>12.1</td>\n",
       "      <td>10.1</td>\n",
       "      <td>10.6</td>\n",
       "      <td>12.2</td>\n",
       "      <td>12.8</td>\n",
       "      <td>12.9</td>\n",
       "    </tr>\n",
       "    <tr>\n",
       "      <th>24</th>\n",
       "      <td>Чернігівська область</td>\n",
       "      <td>22.0</td>\n",
       "      <td>18.3</td>\n",
       "      <td>12.7</td>\n",
       "      <td>10.8</td>\n",
       "      <td>9.8</td>\n",
       "      <td>8.8</td>\n",
       "      <td>8.2</td>\n",
       "      <td>6.9</td>\n",
       "      <td>7.5</td>\n",
       "      <td>8.9</td>\n",
       "      <td>9.4</td>\n",
       "      <td>9.0</td>\n",
       "    </tr>\n",
       "    <tr>\n",
       "      <th>25</th>\n",
       "      <td>Київ</td>\n",
       "      <td>NaN</td>\n",
       "      <td>17.4</td>\n",
       "      <td>15.9</td>\n",
       "      <td>12.0</td>\n",
       "      <td>9.7</td>\n",
       "      <td>8.1</td>\n",
       "      <td>7.6</td>\n",
       "      <td>7.3</td>\n",
       "      <td>9.8</td>\n",
       "      <td>11.6</td>\n",
       "      <td>12.0</td>\n",
       "      <td>12.1</td>\n",
       "    </tr>\n",
       "    <tr>\n",
       "      <th>26</th>\n",
       "      <td>Севастополь (міськрада)</td>\n",
       "      <td>NaN</td>\n",
       "      <td>NaN</td>\n",
       "      <td>NaN</td>\n",
       "      <td>12.5</td>\n",
       "      <td>9.6</td>\n",
       "      <td>7.6</td>\n",
       "      <td>6.9</td>\n",
       "      <td>7.0</td>\n",
       "      <td>9.7</td>\n",
       "      <td>11.0</td>\n",
       "      <td>12.0</td>\n",
       "      <td>NaN</td>\n",
       "    </tr>\n",
       "    <tr>\n",
       "      <th>27</th>\n",
       "      <td>Україна</td>\n",
       "      <td>22.8</td>\n",
       "      <td>20.5</td>\n",
       "      <td>15.2</td>\n",
       "      <td>12.6</td>\n",
       "      <td>11.4</td>\n",
       "      <td>10.0</td>\n",
       "      <td>9.2</td>\n",
       "      <td>7.8</td>\n",
       "      <td>9.0</td>\n",
       "      <td>11.0</td>\n",
       "      <td>11.4</td>\n",
       "      <td>10.8</td>\n",
       "    </tr>\n",
       "  </tbody>\n",
       "</table>\n",
       "</div>"
      ],
      "text/plain": [
       "                     регіон  1950  1960  1970  1990  1992  1994  1996  2000  \\\n",
       "23      Чернівецька область  24.7  21.8  17.0  14.8  14.0  12.8  12.1  10.1   \n",
       "24     Чернігівська область  22.0  18.3  12.7  10.8   9.8   8.8   8.2   6.9   \n",
       "25                     Київ   NaN  17.4  15.9  12.0   9.7   8.1   7.6   7.3   \n",
       "26  Севастополь (міськрада)   NaN   NaN   NaN  12.5   9.6   7.6   6.9   7.0   \n",
       "27                  Україна  22.8  20.5  15.2  12.6  11.4  10.0   9.2   7.8   \n",
       "\n",
       "    2004  2008  2012  2014  \n",
       "23  10.6  12.2  12.8  12.9  \n",
       "24   7.5   8.9   9.4   9.0  \n",
       "25   9.8  11.6  12.0  12.1  \n",
       "26   9.7  11.0  12.0   NaN  \n",
       "27   9.0  11.0  11.4  10.8  "
      ]
     },
     "execution_count": 32,
     "metadata": {},
     "output_type": "execute_result"
    }
   ],
   "source": [
    "df.tail()"
   ]
  },
  {
   "cell_type": "code",
   "execution_count": 33,
   "id": "85b91ec4",
   "metadata": {},
   "outputs": [
    {
     "data": {
      "text/html": [
       "<div>\n",
       "<style scoped>\n",
       "    .dataframe tbody tr th:only-of-type {\n",
       "        vertical-align: middle;\n",
       "    }\n",
       "\n",
       "    .dataframe tbody tr th {\n",
       "        vertical-align: top;\n",
       "    }\n",
       "\n",
       "    .dataframe thead th {\n",
       "        text-align: right;\n",
       "    }\n",
       "</style>\n",
       "<table border=\"1\" class=\"dataframe\">\n",
       "  <thead>\n",
       "    <tr style=\"text-align: right;\">\n",
       "      <th></th>\n",
       "      <th>регіон</th>\n",
       "      <th>1950</th>\n",
       "      <th>1960</th>\n",
       "      <th>1970</th>\n",
       "      <th>1990</th>\n",
       "      <th>1992</th>\n",
       "      <th>1994</th>\n",
       "      <th>1996</th>\n",
       "      <th>2000</th>\n",
       "      <th>2004</th>\n",
       "      <th>2008</th>\n",
       "      <th>2012</th>\n",
       "      <th>2014</th>\n",
       "    </tr>\n",
       "  </thead>\n",
       "  <tbody>\n",
       "    <tr>\n",
       "      <th>22</th>\n",
       "      <td>Черкаська область</td>\n",
       "      <td>20.5</td>\n",
       "      <td>17.9</td>\n",
       "      <td>14.4</td>\n",
       "      <td>12.3</td>\n",
       "      <td>11.4</td>\n",
       "      <td>10.0</td>\n",
       "      <td>9.3</td>\n",
       "      <td>7.5</td>\n",
       "      <td>7.7</td>\n",
       "      <td>9.5</td>\n",
       "      <td>10.0</td>\n",
       "      <td>9.8</td>\n",
       "    </tr>\n",
       "    <tr>\n",
       "      <th>23</th>\n",
       "      <td>Чернівецька область</td>\n",
       "      <td>24.7</td>\n",
       "      <td>21.8</td>\n",
       "      <td>17.0</td>\n",
       "      <td>14.8</td>\n",
       "      <td>14.0</td>\n",
       "      <td>12.8</td>\n",
       "      <td>12.1</td>\n",
       "      <td>10.1</td>\n",
       "      <td>10.6</td>\n",
       "      <td>12.2</td>\n",
       "      <td>12.8</td>\n",
       "      <td>12.9</td>\n",
       "    </tr>\n",
       "    <tr>\n",
       "      <th>24</th>\n",
       "      <td>Чернігівська область</td>\n",
       "      <td>22.0</td>\n",
       "      <td>18.3</td>\n",
       "      <td>12.7</td>\n",
       "      <td>10.8</td>\n",
       "      <td>9.8</td>\n",
       "      <td>8.8</td>\n",
       "      <td>8.2</td>\n",
       "      <td>6.9</td>\n",
       "      <td>7.5</td>\n",
       "      <td>8.9</td>\n",
       "      <td>9.4</td>\n",
       "      <td>9.0</td>\n",
       "    </tr>\n",
       "    <tr>\n",
       "      <th>25</th>\n",
       "      <td>Київ</td>\n",
       "      <td>NaN</td>\n",
       "      <td>17.4</td>\n",
       "      <td>15.9</td>\n",
       "      <td>12.0</td>\n",
       "      <td>9.7</td>\n",
       "      <td>8.1</td>\n",
       "      <td>7.6</td>\n",
       "      <td>7.3</td>\n",
       "      <td>9.8</td>\n",
       "      <td>11.6</td>\n",
       "      <td>12.0</td>\n",
       "      <td>12.1</td>\n",
       "    </tr>\n",
       "    <tr>\n",
       "      <th>26</th>\n",
       "      <td>Севастополь (міськрада)</td>\n",
       "      <td>NaN</td>\n",
       "      <td>NaN</td>\n",
       "      <td>NaN</td>\n",
       "      <td>12.5</td>\n",
       "      <td>9.6</td>\n",
       "      <td>7.6</td>\n",
       "      <td>6.9</td>\n",
       "      <td>7.0</td>\n",
       "      <td>9.7</td>\n",
       "      <td>11.0</td>\n",
       "      <td>12.0</td>\n",
       "      <td>NaN</td>\n",
       "    </tr>\n",
       "  </tbody>\n",
       "</table>\n",
       "</div>"
      ],
      "text/plain": [
       "                     регіон  1950  1960  1970  1990  1992  1994  1996  2000  \\\n",
       "22        Черкаська область  20.5  17.9  14.4  12.3  11.4  10.0   9.3   7.5   \n",
       "23      Чернівецька область  24.7  21.8  17.0  14.8  14.0  12.8  12.1  10.1   \n",
       "24     Чернігівська область  22.0  18.3  12.7  10.8   9.8   8.8   8.2   6.9   \n",
       "25                     Київ   NaN  17.4  15.9  12.0   9.7   8.1   7.6   7.3   \n",
       "26  Севастополь (міськрада)   NaN   NaN   NaN  12.5   9.6   7.6   6.9   7.0   \n",
       "\n",
       "    2004  2008  2012  2014  \n",
       "22   7.7   9.5  10.0   9.8  \n",
       "23  10.6  12.2  12.8  12.9  \n",
       "24   7.5   8.9   9.4   9.0  \n",
       "25   9.8  11.6  12.0  12.1  \n",
       "26   9.7  11.0  12.0   NaN  "
      ]
     },
     "execution_count": 33,
     "metadata": {},
     "output_type": "execute_result"
    }
   ],
   "source": [
    "df = df.drop(df.index[-1])\n",
    "df.tail()"
   ]
  },
  {
   "cell_type": "markdown",
   "id": "f9c477b2",
   "metadata": {},
   "source": [
    "8. Замінити пропущені дані у стовпцях середніми значеннями за стовпчиком  (метод fillna)"
   ]
  },
  {
   "cell_type": "code",
   "execution_count": 34,
   "id": "01022faa",
   "metadata": {},
   "outputs": [
    {
     "data": {
      "text/html": [
       "<div>\n",
       "<style scoped>\n",
       "    .dataframe tbody tr th:only-of-type {\n",
       "        vertical-align: middle;\n",
       "    }\n",
       "\n",
       "    .dataframe tbody tr th {\n",
       "        vertical-align: top;\n",
       "    }\n",
       "\n",
       "    .dataframe thead th {\n",
       "        text-align: right;\n",
       "    }\n",
       "</style>\n",
       "<table border=\"1\" class=\"dataframe\">\n",
       "  <thead>\n",
       "    <tr style=\"text-align: right;\">\n",
       "      <th></th>\n",
       "      <th>регіон</th>\n",
       "      <th>1950</th>\n",
       "      <th>1960</th>\n",
       "      <th>1970</th>\n",
       "      <th>1990</th>\n",
       "      <th>1992</th>\n",
       "      <th>1994</th>\n",
       "      <th>1996</th>\n",
       "      <th>2000</th>\n",
       "      <th>2004</th>\n",
       "      <th>2008</th>\n",
       "      <th>2012</th>\n",
       "      <th>2014</th>\n",
       "    </tr>\n",
       "  </thead>\n",
       "  <tbody>\n",
       "    <tr>\n",
       "      <th>0</th>\n",
       "      <td>Автономна Республіка Крим</td>\n",
       "      <td>23.0</td>\n",
       "      <td>20.6</td>\n",
       "      <td>16.0</td>\n",
       "      <td>13.0</td>\n",
       "      <td>10.9</td>\n",
       "      <td>9.3</td>\n",
       "      <td>8.0</td>\n",
       "      <td>7.3</td>\n",
       "      <td>9.0</td>\n",
       "      <td>11.9</td>\n",
       "      <td>12.6</td>\n",
       "      <td>NaN</td>\n",
       "    </tr>\n",
       "    <tr>\n",
       "      <th>1</th>\n",
       "      <td>Вінницька область</td>\n",
       "      <td>22.4</td>\n",
       "      <td>19.2</td>\n",
       "      <td>14.2</td>\n",
       "      <td>12.4</td>\n",
       "      <td>11.9</td>\n",
       "      <td>10.7</td>\n",
       "      <td>10.3</td>\n",
       "      <td>8.4</td>\n",
       "      <td>9.0</td>\n",
       "      <td>10.8</td>\n",
       "      <td>11.2</td>\n",
       "      <td>10.9</td>\n",
       "    </tr>\n",
       "    <tr>\n",
       "      <th>2</th>\n",
       "      <td>Волинська область</td>\n",
       "      <td>24.7</td>\n",
       "      <td>25.0</td>\n",
       "      <td>17.9</td>\n",
       "      <td>15.3</td>\n",
       "      <td>15.0</td>\n",
       "      <td>13.7</td>\n",
       "      <td>12.5</td>\n",
       "      <td>11.2</td>\n",
       "      <td>11.9</td>\n",
       "      <td>14.8</td>\n",
       "      <td>14.8</td>\n",
       "      <td>14.1</td>\n",
       "    </tr>\n",
       "    <tr>\n",
       "      <th>3</th>\n",
       "      <td>Дніпропетровська область</td>\n",
       "      <td>20.4</td>\n",
       "      <td>20.4</td>\n",
       "      <td>15.1</td>\n",
       "      <td>12.3</td>\n",
       "      <td>10.6</td>\n",
       "      <td>9.2</td>\n",
       "      <td>8.0</td>\n",
       "      <td>7.1</td>\n",
       "      <td>8.9</td>\n",
       "      <td>11.0</td>\n",
       "      <td>11.2</td>\n",
       "      <td>11.1</td>\n",
       "    </tr>\n",
       "    <tr>\n",
       "      <th>4</th>\n",
       "      <td>Донецька область</td>\n",
       "      <td>27.1</td>\n",
       "      <td>21.4</td>\n",
       "      <td>14.0</td>\n",
       "      <td>10.9</td>\n",
       "      <td>9.4</td>\n",
       "      <td>8.2</td>\n",
       "      <td>7.0</td>\n",
       "      <td>6.1</td>\n",
       "      <td>7.6</td>\n",
       "      <td>9.8</td>\n",
       "      <td>9.8</td>\n",
       "      <td>8.2</td>\n",
       "    </tr>\n",
       "  </tbody>\n",
       "</table>\n",
       "</div>"
      ],
      "text/plain": [
       "                      регіон  1950  1960  1970  1990  1992  1994  1996  2000  \\\n",
       "0  Автономна Республіка Крим  23.0  20.6  16.0  13.0  10.9   9.3   8.0   7.3   \n",
       "1          Вінницька область  22.4  19.2  14.2  12.4  11.9  10.7  10.3   8.4   \n",
       "2          Волинська область  24.7  25.0  17.9  15.3  15.0  13.7  12.5  11.2   \n",
       "3   Дніпропетровська область  20.4  20.4  15.1  12.3  10.6   9.2   8.0   7.1   \n",
       "4           Донецька область  27.1  21.4  14.0  10.9   9.4   8.2   7.0   6.1   \n",
       "\n",
       "   2004  2008  2012  2014  \n",
       "0   9.0  11.9  12.6   NaN  \n",
       "1   9.0  10.8  11.2  10.9  \n",
       "2  11.9  14.8  14.8  14.1  \n",
       "3   8.9  11.0  11.2  11.1  \n",
       "4   7.6   9.8   9.8   8.2  "
      ]
     },
     "execution_count": 34,
     "metadata": {},
     "output_type": "execute_result"
    }
   ],
   "source": [
    "df.head()"
   ]
  },
  {
   "cell_type": "code",
   "execution_count": 35,
   "id": "61f4faff",
   "metadata": {},
   "outputs": [
    {
     "data": {
      "text/html": [
       "<div>\n",
       "<style scoped>\n",
       "    .dataframe tbody tr th:only-of-type {\n",
       "        vertical-align: middle;\n",
       "    }\n",
       "\n",
       "    .dataframe tbody tr th {\n",
       "        vertical-align: top;\n",
       "    }\n",
       "\n",
       "    .dataframe thead th {\n",
       "        text-align: right;\n",
       "    }\n",
       "</style>\n",
       "<table border=\"1\" class=\"dataframe\">\n",
       "  <thead>\n",
       "    <tr style=\"text-align: right;\">\n",
       "      <th></th>\n",
       "      <th>регіон</th>\n",
       "      <th>1950</th>\n",
       "      <th>1960</th>\n",
       "      <th>1970</th>\n",
       "      <th>1990</th>\n",
       "      <th>1992</th>\n",
       "      <th>1994</th>\n",
       "      <th>1996</th>\n",
       "      <th>2000</th>\n",
       "      <th>2004</th>\n",
       "      <th>2008</th>\n",
       "      <th>2012</th>\n",
       "      <th>2014</th>\n",
       "    </tr>\n",
       "  </thead>\n",
       "  <tbody>\n",
       "    <tr>\n",
       "      <th>0</th>\n",
       "      <td>Автономна Республіка Крим</td>\n",
       "      <td>23.0</td>\n",
       "      <td>20.6</td>\n",
       "      <td>16.0</td>\n",
       "      <td>13.0</td>\n",
       "      <td>10.9</td>\n",
       "      <td>9.3</td>\n",
       "      <td>8.0</td>\n",
       "      <td>7.3</td>\n",
       "      <td>9.0</td>\n",
       "      <td>11.9</td>\n",
       "      <td>12.6</td>\n",
       "      <td>11.1</td>\n",
       "    </tr>\n",
       "    <tr>\n",
       "      <th>1</th>\n",
       "      <td>Вінницька область</td>\n",
       "      <td>22.4</td>\n",
       "      <td>19.2</td>\n",
       "      <td>14.2</td>\n",
       "      <td>12.4</td>\n",
       "      <td>11.9</td>\n",
       "      <td>10.7</td>\n",
       "      <td>10.3</td>\n",
       "      <td>8.4</td>\n",
       "      <td>9.0</td>\n",
       "      <td>10.8</td>\n",
       "      <td>11.2</td>\n",
       "      <td>10.9</td>\n",
       "    </tr>\n",
       "    <tr>\n",
       "      <th>2</th>\n",
       "      <td>Волинська область</td>\n",
       "      <td>24.7</td>\n",
       "      <td>25.0</td>\n",
       "      <td>17.9</td>\n",
       "      <td>15.3</td>\n",
       "      <td>15.0</td>\n",
       "      <td>13.7</td>\n",
       "      <td>12.5</td>\n",
       "      <td>11.2</td>\n",
       "      <td>11.9</td>\n",
       "      <td>14.8</td>\n",
       "      <td>14.8</td>\n",
       "      <td>14.1</td>\n",
       "    </tr>\n",
       "    <tr>\n",
       "      <th>3</th>\n",
       "      <td>Дніпропетровська область</td>\n",
       "      <td>20.4</td>\n",
       "      <td>20.4</td>\n",
       "      <td>15.1</td>\n",
       "      <td>12.3</td>\n",
       "      <td>10.6</td>\n",
       "      <td>9.2</td>\n",
       "      <td>8.0</td>\n",
       "      <td>7.1</td>\n",
       "      <td>8.9</td>\n",
       "      <td>11.0</td>\n",
       "      <td>11.2</td>\n",
       "      <td>11.1</td>\n",
       "    </tr>\n",
       "    <tr>\n",
       "      <th>4</th>\n",
       "      <td>Донецька область</td>\n",
       "      <td>27.1</td>\n",
       "      <td>21.4</td>\n",
       "      <td>14.0</td>\n",
       "      <td>10.9</td>\n",
       "      <td>9.4</td>\n",
       "      <td>8.2</td>\n",
       "      <td>7.0</td>\n",
       "      <td>6.1</td>\n",
       "      <td>7.6</td>\n",
       "      <td>9.8</td>\n",
       "      <td>9.8</td>\n",
       "      <td>8.2</td>\n",
       "    </tr>\n",
       "  </tbody>\n",
       "</table>\n",
       "</div>"
      ],
      "text/plain": [
       "                      регіон  1950  1960  1970  1990  1992  1994  1996  2000  \\\n",
       "0  Автономна Республіка Крим  23.0  20.6  16.0  13.0  10.9   9.3   8.0   7.3   \n",
       "1          Вінницька область  22.4  19.2  14.2  12.4  11.9  10.7  10.3   8.4   \n",
       "2          Волинська область  24.7  25.0  17.9  15.3  15.0  13.7  12.5  11.2   \n",
       "3   Дніпропетровська область  20.4  20.4  15.1  12.3  10.6   9.2   8.0   7.1   \n",
       "4           Донецька область  27.1  21.4  14.0  10.9   9.4   8.2   7.0   6.1   \n",
       "\n",
       "   2004  2008  2012  2014  \n",
       "0   9.0  11.9  12.6  11.1  \n",
       "1   9.0  10.8  11.2  10.9  \n",
       "2  11.9  14.8  14.8  14.1  \n",
       "3   8.9  11.0  11.2  11.1  \n",
       "4   7.6   9.8   9.8   8.2  "
      ]
     },
     "execution_count": 35,
     "metadata": {},
     "output_type": "execute_result"
    }
   ],
   "source": [
    "columns = df.columns\n",
    "for i in range(1, len(columns)):\n",
    "    col     = columns[i]\n",
    "    df[col] = df[col].fillna(df[col].mean()).round(1)\n",
    "\n",
    "df.head()"
   ]
  },
  {
   "cell_type": "markdown",
   "id": "3a10ba0d",
   "metadata": {},
   "source": [
    "9. Отримайте список регіонів, де народжуваність у 2014 році була вищою за середню по Україні"
   ]
  },
  {
   "cell_type": "code",
   "execution_count": 55,
   "id": "0a510c43",
   "metadata": {},
   "outputs": [
    {
     "name": "stdout",
     "output_type": "stream",
     "text": [
      "Середня народжуванність у 2014 році була 11.14\n"
     ]
    },
    {
     "data": {
      "text/html": [
       "<div>\n",
       "<style scoped>\n",
       "    .dataframe tbody tr th:only-of-type {\n",
       "        vertical-align: middle;\n",
       "    }\n",
       "\n",
       "    .dataframe tbody tr th {\n",
       "        vertical-align: top;\n",
       "    }\n",
       "\n",
       "    .dataframe thead th {\n",
       "        text-align: right;\n",
       "    }\n",
       "</style>\n",
       "<table border=\"1\" class=\"dataframe\">\n",
       "  <thead>\n",
       "    <tr style=\"text-align: right;\">\n",
       "      <th></th>\n",
       "      <th>регіон</th>\n",
       "      <th>2014</th>\n",
       "    </tr>\n",
       "  </thead>\n",
       "  <tbody>\n",
       "    <tr>\n",
       "      <th>2</th>\n",
       "      <td>Волинська область</td>\n",
       "      <td>14.1</td>\n",
       "    </tr>\n",
       "    <tr>\n",
       "      <th>5</th>\n",
       "      <td>Житомирська область</td>\n",
       "      <td>12.0</td>\n",
       "    </tr>\n",
       "    <tr>\n",
       "      <th>6</th>\n",
       "      <td>Закарпатська область</td>\n",
       "      <td>14.6</td>\n",
       "    </tr>\n",
       "    <tr>\n",
       "      <th>8</th>\n",
       "      <td>Івано-Франківська область</td>\n",
       "      <td>12.2</td>\n",
       "    </tr>\n",
       "    <tr>\n",
       "      <th>9</th>\n",
       "      <td>Київська область</td>\n",
       "      <td>12.1</td>\n",
       "    </tr>\n",
       "    <tr>\n",
       "      <th>12</th>\n",
       "      <td>Львівська область</td>\n",
       "      <td>11.9</td>\n",
       "    </tr>\n",
       "    <tr>\n",
       "      <th>13</th>\n",
       "      <td>Миколаївська область</td>\n",
       "      <td>11.2</td>\n",
       "    </tr>\n",
       "    <tr>\n",
       "      <th>14</th>\n",
       "      <td>Одеська область</td>\n",
       "      <td>12.3</td>\n",
       "    </tr>\n",
       "    <tr>\n",
       "      <th>16</th>\n",
       "      <td>Рівненська область</td>\n",
       "      <td>14.8</td>\n",
       "    </tr>\n",
       "    <tr>\n",
       "      <th>20</th>\n",
       "      <td>Херсонська область</td>\n",
       "      <td>11.5</td>\n",
       "    </tr>\n",
       "    <tr>\n",
       "      <th>21</th>\n",
       "      <td>Хмельницька область</td>\n",
       "      <td>11.2</td>\n",
       "    </tr>\n",
       "    <tr>\n",
       "      <th>23</th>\n",
       "      <td>Чернівецька область</td>\n",
       "      <td>12.9</td>\n",
       "    </tr>\n",
       "    <tr>\n",
       "      <th>25</th>\n",
       "      <td>Київ</td>\n",
       "      <td>12.1</td>\n",
       "    </tr>\n",
       "  </tbody>\n",
       "</table>\n",
       "</div>"
      ],
      "text/plain": [
       "                       регіон  2014\n",
       "2           Волинська область  14.1\n",
       "5         Житомирська область  12.0\n",
       "6        Закарпатська область  14.6\n",
       "8   Івано-Франківська область  12.2\n",
       "9            Київська область  12.1\n",
       "12          Львівська область  11.9\n",
       "13       Миколаївська область  11.2\n",
       "14            Одеська область  12.3\n",
       "16         Рівненська область  14.8\n",
       "20         Херсонська область  11.5\n",
       "21        Хмельницька область  11.2\n",
       "23        Чернівецька область  12.9\n",
       "25                       Київ  12.1"
      ]
     },
     "execution_count": 55,
     "metadata": {},
     "output_type": "execute_result"
    }
   ],
   "source": [
    "df_2014      = df[['регіон', '2014']]\n",
    "df_mean_2014 = df_2014['2014'].mean()\n",
    "\n",
    "print(f\"Середня народжуванність у 2014 році була {round(df_mean_2014, 2)}\")\n",
    "\n",
    "df_higher_mean = df_2014[df_2014['2014'] > df_mean_2014]\n",
    "df_higher_mean"
   ]
  },
  {
   "cell_type": "markdown",
   "id": "5f5e3919",
   "metadata": {},
   "source": [
    "10. В якому регіоні була найвища народжуваність у 2010 та 2012 роках (окремо)."
   ]
  },
  {
   "cell_type": "code",
   "execution_count": 80,
   "id": "9500a6b4",
   "metadata": {},
   "outputs": [],
   "source": [
    "# Оскільки у таблиця немає даних за 2010 рік, тому я використала дані за 2008 рік."
   ]
  },
  {
   "cell_type": "code",
   "execution_count": 78,
   "id": "ca72632a",
   "metadata": {},
   "outputs": [
    {
     "name": "stdout",
     "output_type": "stream",
     "text": [
      "Найвища народжуванність у 2008 році була у Волинська область.\n"
     ]
    },
    {
     "name": "stderr",
     "output_type": "stream",
     "text": [
      "C:\\Users\\LENOVO\\AppData\\Local\\Temp\\ipykernel_11708\\1088615168.py:3: FutureWarning: Series.__getitem__ treating keys as positions is deprecated. In a future version, integer keys will always be treated as labels (consistent with DataFrame behavior). To access a value by position, use `ser.iloc[pos]`\n",
      "  print(f\"Найвища народжуванність у 2008 році була у {h_2008[0]}.\")\n"
     ]
    }
   ],
   "source": [
    "df_2008 = df[['регіон', '2008']]\n",
    "h_2008  = df_2008.sort_values(by='2008', ascending=False).iloc[0]\n",
    "print(f\"Найвища народжуванність у 2008 році була у {h_2008[0]}.\")"
   ]
  },
  {
   "cell_type": "code",
   "execution_count": 79,
   "id": "ddfac0b2",
   "metadata": {},
   "outputs": [
    {
     "name": "stdout",
     "output_type": "stream",
     "text": [
      "Найвища народжуванність у 2008 році була у Рівненська область.\n"
     ]
    },
    {
     "name": "stderr",
     "output_type": "stream",
     "text": [
      "C:\\Users\\LENOVO\\AppData\\Local\\Temp\\ipykernel_11708\\217923162.py:3: FutureWarning: Series.__getitem__ treating keys as positions is deprecated. In a future version, integer keys will always be treated as labels (consistent with DataFrame behavior). To access a value by position, use `ser.iloc[pos]`\n",
      "  print(f\"Найвища народжуванність у 2008 році була у {h_2012[0]}.\")\n"
     ]
    }
   ],
   "source": [
    "df_2012 = df[['регіон', '2012']]\n",
    "h_2012  = df_2012.sort_values(by='2012', ascending=False).iloc[0]\n",
    "print(f\"Найвища народжуванність у 2008 році була у {h_2012[0]}.\")"
   ]
  },
  {
   "cell_type": "markdown",
   "id": "d073cd79",
   "metadata": {},
   "source": [
    "11. Побудуйте стовпчасту народжуваності за регіонами у 2014 році"
   ]
  },
  {
   "cell_type": "code",
   "execution_count": 70,
   "id": "d05894f8",
   "metadata": {},
   "outputs": [
    {
     "name": "stderr",
     "output_type": "stream",
     "text": [
      "C:\\Users\\LENOVO\\AppData\\Local\\Temp\\ipykernel_11708\\1811468727.py:3: FutureWarning: The provided callable <built-in function sum> is currently using SeriesGroupBy.sum. In a future version of pandas, the provided callable will be used directly. To keep current behavior pass 'sum' instead.\n",
      "  .agg({'2014' : sum})\\\n"
     ]
    },
    {
     "data": {
      "text/plain": [
       "<Axes: xlabel='регіон'>"
      ]
     },
     "execution_count": 70,
     "metadata": {},
     "output_type": "execute_result"
    },
    {
     "data": {
      "image/png": "[encoded data removed]",
      "text/plain": [
       "<Figure size 1200x500 with 1 Axes>"
      ]
     },
     "metadata": {},
     "output_type": "display_data"
    }
   ],
   "source": [
    "df_2014\\\n",
    "    .groupby('регіон')\\\n",
    "    .agg({'2014' : sum})\\\n",
    "    .sort_values('2014', ascending=True)\\\n",
    "    .plot(kind='bar', figsize=[12, 5])"
   ]
  }
 ],
 "metadata": {
  "kernelspec": {
   "display_name": "Python 3 (ipykernel)",
   "language": "python",
   "name": "python3"
  },
  "language_info": {
   "codemirror_mode": {
    "name": "ipython",
    "version": 3
   },
   "file_extension": ".py",
   "mimetype": "text/x-python",
   "name": "python",
   "nbconvert_exporter": "python",
   "pygments_lexer": "ipython3",
   "version": "3.11.5"
  }
 },
 "nbformat": 4,
 "nbformat_minor": 5
}
